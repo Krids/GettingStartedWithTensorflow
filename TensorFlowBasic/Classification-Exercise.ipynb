{
 "cells": [
  {
   "cell_type": "markdown",
   "metadata": {
    "collapsed": true
   },
   "source": [
    "# Classification Exercise"
   ]
  },
  {
   "cell_type": "markdown",
   "metadata": {},
   "source": [
    "We'll be working with some California Census Data, we'll be trying to use various features of an individual to predict what class of income they belogn in (>50k or <=50k). \n",
    "\n",
    "Here is some information about the data:"
   ]
  },
  {
   "cell_type": "markdown",
   "metadata": {},
   "source": [
    "<table>\n",
    "<thead>\n",
    "<tr>\n",
    "<th>Column Name</th>\n",
    "<th>Type</th>\n",
    "<th>Description</th>\n",
    "</tr>\n",
    "</thead>\n",
    "<tbody>\n",
    "<tr>\n",
    "<td>age</td>\n",
    "<td>Continuous</td>\n",
    "<td>The age of the individual</td>\n",
    "</tr>\n",
    "<tr>\n",
    "<td>workclass</td>\n",
    "<td>Categorical</td>\n",
    "<td>The type of employer the  individual has (government,  military, private, etc.).</td>\n",
    "</tr>\n",
    "<tr>\n",
    "<td>fnlwgt</td>\n",
    "<td>Continuous</td>\n",
    "<td>The number of people the census  takers believe that observation  represents (sample weight). This  variable will not be used.</td>\n",
    "</tr>\n",
    "<tr>\n",
    "<td>education</td>\n",
    "<td>Categorical</td>\n",
    "<td>The highest level of education  achieved for that individual.</td>\n",
    "</tr>\n",
    "<tr>\n",
    "<td>education_num</td>\n",
    "<td>Continuous</td>\n",
    "<td>The highest level of education in  numerical form.</td>\n",
    "</tr>\n",
    "<tr>\n",
    "<td>marital_status</td>\n",
    "<td>Categorical</td>\n",
    "<td>Marital status of the individual.</td>\n",
    "</tr>\n",
    "<tr>\n",
    "<td>occupation</td>\n",
    "<td>Categorical</td>\n",
    "<td>The occupation of the individual.</td>\n",
    "</tr>\n",
    "<tr>\n",
    "<td>relationship</td>\n",
    "<td>Categorical</td>\n",
    "<td>Wife, Own-child, Husband,  Not-in-family, Other-relative,  Unmarried.</td>\n",
    "</tr>\n",
    "<tr>\n",
    "<td>race</td>\n",
    "<td>Categorical</td>\n",
    "<td>White, Asian-Pac-Islander,  Amer-Indian-Eskimo, Other, Black.</td>\n",
    "</tr>\n",
    "<tr>\n",
    "<td>gender</td>\n",
    "<td>Categorical</td>\n",
    "<td>Female, Male.</td>\n",
    "</tr>\n",
    "<tr>\n",
    "<td>capital_gain</td>\n",
    "<td>Continuous</td>\n",
    "<td>Capital gains recorded.</td>\n",
    "</tr>\n",
    "<tr>\n",
    "<td>capital_loss</td>\n",
    "<td>Continuous</td>\n",
    "<td>Capital Losses recorded.</td>\n",
    "</tr>\n",
    "<tr>\n",
    "<td>hours_per_week</td>\n",
    "<td>Continuous</td>\n",
    "<td>Hours worked per week.</td>\n",
    "</tr>\n",
    "<tr>\n",
    "<td>native_country</td>\n",
    "<td>Categorical</td>\n",
    "<td>Country of origin of the  individual.</td>\n",
    "</tr>\n",
    "<tr>\n",
    "<td>income</td>\n",
    "<td>Categorical</td>\n",
    "<td>\"&gt;50K\" or \"&lt;=50K\", meaning  whether the person makes more  than \\$50,000 annually.</td>\n",
    "</tr>\n",
    "</tbody>\n",
    "</table>"
   ]
  },
  {
   "cell_type": "markdown",
   "metadata": {},
   "source": [
    "## Follow the Directions in Bold. If you get stuck, check out the solutions lecture."
   ]
  },
  {
   "cell_type": "markdown",
   "metadata": {},
   "source": [
    "### THE DATA"
   ]
  },
  {
   "cell_type": "markdown",
   "metadata": {},
   "source": [
    "** Read in the census_data.csv data with pandas**"
   ]
  },
  {
   "cell_type": "code",
   "execution_count": 1,
   "metadata": {
    "collapsed": true
   },
   "outputs": [],
   "source": [
    "import pandas as pd\n",
    "import numpy as np\n",
    "import tensorflow as tf\n",
    "import matplotlib.pyplot as plt\n",
    "from sklearn.metrics import classification_report\n",
    "from sklearn.model_selection import train_test_split\n",
    "%matplotlib inline"
   ]
  },
  {
   "cell_type": "code",
   "execution_count": 2,
   "metadata": {
    "collapsed": true
   },
   "outputs": [],
   "source": [
    "df_census = pd.read_csv('census_data.csv')"
   ]
  },
  {
   "cell_type": "code",
   "execution_count": 3,
   "metadata": {},
   "outputs": [
    {
     "data": {
      "text/html": [
       "<div>\n",
       "<style>\n",
       "    .dataframe thead tr:only-child th {\n",
       "        text-align: right;\n",
       "    }\n",
       "\n",
       "    .dataframe thead th {\n",
       "        text-align: left;\n",
       "    }\n",
       "\n",
       "    .dataframe tbody tr th {\n",
       "        vertical-align: top;\n",
       "    }\n",
       "</style>\n",
       "<table border=\"1\" class=\"dataframe\">\n",
       "  <thead>\n",
       "    <tr style=\"text-align: right;\">\n",
       "      <th></th>\n",
       "      <th>age</th>\n",
       "      <th>workclass</th>\n",
       "      <th>education</th>\n",
       "      <th>education_num</th>\n",
       "      <th>marital_status</th>\n",
       "      <th>occupation</th>\n",
       "      <th>relationship</th>\n",
       "      <th>race</th>\n",
       "      <th>gender</th>\n",
       "      <th>capital_gain</th>\n",
       "      <th>capital_loss</th>\n",
       "      <th>hours_per_week</th>\n",
       "      <th>native_country</th>\n",
       "      <th>income_bracket</th>\n",
       "    </tr>\n",
       "  </thead>\n",
       "  <tbody>\n",
       "    <tr>\n",
       "      <th>0</th>\n",
       "      <td>39</td>\n",
       "      <td>State-gov</td>\n",
       "      <td>Bachelors</td>\n",
       "      <td>13</td>\n",
       "      <td>Never-married</td>\n",
       "      <td>Adm-clerical</td>\n",
       "      <td>Not-in-family</td>\n",
       "      <td>White</td>\n",
       "      <td>Male</td>\n",
       "      <td>2174</td>\n",
       "      <td>0</td>\n",
       "      <td>40</td>\n",
       "      <td>United-States</td>\n",
       "      <td>&lt;=50K</td>\n",
       "    </tr>\n",
       "    <tr>\n",
       "      <th>1</th>\n",
       "      <td>50</td>\n",
       "      <td>Self-emp-not-inc</td>\n",
       "      <td>Bachelors</td>\n",
       "      <td>13</td>\n",
       "      <td>Married-civ-spouse</td>\n",
       "      <td>Exec-managerial</td>\n",
       "      <td>Husband</td>\n",
       "      <td>White</td>\n",
       "      <td>Male</td>\n",
       "      <td>0</td>\n",
       "      <td>0</td>\n",
       "      <td>13</td>\n",
       "      <td>United-States</td>\n",
       "      <td>&lt;=50K</td>\n",
       "    </tr>\n",
       "    <tr>\n",
       "      <th>2</th>\n",
       "      <td>38</td>\n",
       "      <td>Private</td>\n",
       "      <td>HS-grad</td>\n",
       "      <td>9</td>\n",
       "      <td>Divorced</td>\n",
       "      <td>Handlers-cleaners</td>\n",
       "      <td>Not-in-family</td>\n",
       "      <td>White</td>\n",
       "      <td>Male</td>\n",
       "      <td>0</td>\n",
       "      <td>0</td>\n",
       "      <td>40</td>\n",
       "      <td>United-States</td>\n",
       "      <td>&lt;=50K</td>\n",
       "    </tr>\n",
       "    <tr>\n",
       "      <th>3</th>\n",
       "      <td>53</td>\n",
       "      <td>Private</td>\n",
       "      <td>11th</td>\n",
       "      <td>7</td>\n",
       "      <td>Married-civ-spouse</td>\n",
       "      <td>Handlers-cleaners</td>\n",
       "      <td>Husband</td>\n",
       "      <td>Black</td>\n",
       "      <td>Male</td>\n",
       "      <td>0</td>\n",
       "      <td>0</td>\n",
       "      <td>40</td>\n",
       "      <td>United-States</td>\n",
       "      <td>&lt;=50K</td>\n",
       "    </tr>\n",
       "    <tr>\n",
       "      <th>4</th>\n",
       "      <td>28</td>\n",
       "      <td>Private</td>\n",
       "      <td>Bachelors</td>\n",
       "      <td>13</td>\n",
       "      <td>Married-civ-spouse</td>\n",
       "      <td>Prof-specialty</td>\n",
       "      <td>Wife</td>\n",
       "      <td>Black</td>\n",
       "      <td>Female</td>\n",
       "      <td>0</td>\n",
       "      <td>0</td>\n",
       "      <td>40</td>\n",
       "      <td>Cuba</td>\n",
       "      <td>&lt;=50K</td>\n",
       "    </tr>\n",
       "  </tbody>\n",
       "</table>\n",
       "</div>"
      ],
      "text/plain": [
       "   age          workclass   education  education_num       marital_status  \\\n",
       "0   39          State-gov   Bachelors             13        Never-married   \n",
       "1   50   Self-emp-not-inc   Bachelors             13   Married-civ-spouse   \n",
       "2   38            Private     HS-grad              9             Divorced   \n",
       "3   53            Private        11th              7   Married-civ-spouse   \n",
       "4   28            Private   Bachelors             13   Married-civ-spouse   \n",
       "\n",
       "           occupation    relationship    race   gender  capital_gain  \\\n",
       "0        Adm-clerical   Not-in-family   White     Male          2174   \n",
       "1     Exec-managerial         Husband   White     Male             0   \n",
       "2   Handlers-cleaners   Not-in-family   White     Male             0   \n",
       "3   Handlers-cleaners         Husband   Black     Male             0   \n",
       "4      Prof-specialty            Wife   Black   Female             0   \n",
       "\n",
       "   capital_loss  hours_per_week  native_country income_bracket  \n",
       "0             0              40   United-States          <=50K  \n",
       "1             0              13   United-States          <=50K  \n",
       "2             0              40   United-States          <=50K  \n",
       "3             0              40   United-States          <=50K  \n",
       "4             0              40            Cuba          <=50K  "
      ]
     },
     "execution_count": 3,
     "metadata": {},
     "output_type": "execute_result"
    }
   ],
   "source": [
    "df_census.head()"
   ]
  },
  {
   "cell_type": "markdown",
   "metadata": {},
   "source": [
    "** TensorFlow won't be able to understand strings as labels, you'll need to use pandas .apply() method to apply a custom function that converts them to 0s and 1s. This might be hard if you aren't very familiar with pandas, so feel free to take a peek at the solutions for this part.**\n",
    "\n",
    "** Convert the Label column to 0s and 1s instead of strings.**"
   ]
  },
  {
   "cell_type": "code",
   "execution_count": 4,
   "metadata": {},
   "outputs": [
    {
     "data": {
      "text/plain": [
       "array([' <=50K', ' >50K'], dtype=object)"
      ]
     },
     "execution_count": 4,
     "metadata": {},
     "output_type": "execute_result"
    }
   ],
   "source": [
    "df_census['income_bracket'].unique()"
   ]
  },
  {
   "cell_type": "code",
   "execution_count": 5,
   "metadata": {
    "collapsed": true
   },
   "outputs": [],
   "source": [
    "df_census['income_bracket'] = df_census['income_bracket'].apply(lambda label: int(label==' <=50K'))"
   ]
  },
  {
   "cell_type": "markdown",
   "metadata": {},
   "source": [
    "### Perform a Train Test Split on the Data"
   ]
  },
  {
   "cell_type": "code",
   "execution_count": 6,
   "metadata": {
    "collapsed": true
   },
   "outputs": [],
   "source": [
    "x_data = df_census.drop('income_bracket',axis=1)\n",
    "y_labels = df_census['income_bracket']\n",
    "X_train, X_test, y_train, y_test = train_test_split(x_data,y_labels,test_size=0.3,random_state=101)"
   ]
  },
  {
   "cell_type": "markdown",
   "metadata": {},
   "source": [
    "### Create the Feature Columns for tf.esitmator\n",
    "\n",
    "** Take note of categorical vs continuous values! **"
   ]
  },
  {
   "cell_type": "code",
   "execution_count": 7,
   "metadata": {},
   "outputs": [
    {
     "data": {
      "text/plain": [
       "Index(['age', 'workclass', 'education', 'education_num', 'marital_status',\n",
       "       'occupation', 'relationship', 'race', 'gender', 'capital_gain',\n",
       "       'capital_loss', 'hours_per_week', 'native_country', 'income_bracket'],\n",
       "      dtype='object')"
      ]
     },
     "execution_count": 7,
     "metadata": {},
     "output_type": "execute_result"
    }
   ],
   "source": [
    "df_census.columns"
   ]
  },
  {
   "cell_type": "markdown",
   "metadata": {
    "collapsed": true
   },
   "source": [
    "** Create the tf.feature_columns for the categorical values. Use vocabulary lists or just use hash buckets. **"
   ]
  },
  {
   "cell_type": "code",
   "execution_count": 8,
   "metadata": {
    "collapsed": true
   },
   "outputs": [],
   "source": [
    "gender = tf.feature_column.categorical_column_with_vocabulary_list(\"gender\", [\"Female\", \"Male\"])\n",
    "occupation = tf.feature_column.categorical_column_with_hash_bucket(\"occupation\", hash_bucket_size=1000)\n",
    "marital_status = tf.feature_column.categorical_column_with_hash_bucket(\"marital_status\", hash_bucket_size=1000)\n",
    "relationship = tf.feature_column.categorical_column_with_hash_bucket(\"relationship\", hash_bucket_size=1000)\n",
    "education = tf.feature_column.categorical_column_with_hash_bucket(\"education\", hash_bucket_size=1000)\n",
    "workclass = tf.feature_column.categorical_column_with_hash_bucket(\"workclass\", hash_bucket_size=1000)\n",
    "native_country = tf.feature_column.categorical_column_with_hash_bucket(\"native_country\", hash_bucket_size=1000)"
   ]
  },
  {
   "cell_type": "markdown",
   "metadata": {},
   "source": [
    "** Create the continuous feature_columns for the continuous values using numeric_column **"
   ]
  },
  {
   "cell_type": "code",
   "execution_count": 9,
   "metadata": {
    "collapsed": true
   },
   "outputs": [],
   "source": [
    "age = tf.feature_column.numeric_column(\"age\")\n",
    "education_num = tf.feature_column.numeric_column(\"education_num\")\n",
    "capital_gain = tf.feature_column.numeric_column(\"capital_gain\")\n",
    "capital_loss = tf.feature_column.numeric_column(\"capital_loss\")\n",
    "hours_per_week = tf.feature_column.numeric_column(\"hours_per_week\")"
   ]
  },
  {
   "cell_type": "markdown",
   "metadata": {},
   "source": [
    "** Put all these variables into a single list with the variable name feat_cols **"
   ]
  },
  {
   "cell_type": "code",
   "execution_count": 10,
   "metadata": {
    "collapsed": true
   },
   "outputs": [],
   "source": [
    "feat_cols = [gender,occupation,marital_status,relationship,education,workclass,native_country,\n",
    "            age,education_num,capital_gain,capital_loss,hours_per_week]"
   ]
  },
  {
   "cell_type": "markdown",
   "metadata": {},
   "source": [
    "### Create Input Function\n",
    "\n",
    "** Batch_size is up to you. But do make sure to shuffle!**"
   ]
  },
  {
   "cell_type": "code",
   "execution_count": 11,
   "metadata": {
    "collapsed": true
   },
   "outputs": [],
   "source": [
    "input_function = tf.estimator.inputs.pandas_input_fn(x=X_train, y=y_train, batch_size=10, num_epochs=1000, shuffle=True)"
   ]
  },
  {
   "cell_type": "markdown",
   "metadata": {},
   "source": [
    "#### Create your model with tf.estimator\n",
    "\n",
    "**Create a LinearClassifier.(If you want to use a DNNClassifier, keep in mind you'll need to create embedded columns out of the cateogrical feature that use strings, check out the previous lecture on this for more info.)**"
   ]
  },
  {
   "cell_type": "code",
   "execution_count": 12,
   "metadata": {},
   "outputs": [
    {
     "name": "stdout",
     "output_type": "stream",
     "text": [
      "INFO:tensorflow:Using default config.\n",
      "WARNING:tensorflow:Using temporary folder as model directory: C:\\Users\\felip\\AppData\\Local\\Temp\\tmpvgu3hfrg\n",
      "INFO:tensorflow:Using config: {'_keep_checkpoint_max': 5, '_keep_checkpoint_every_n_hours': 10000, '_tf_random_seed': 1, '_save_checkpoints_steps': None, '_save_summary_steps': 100, '_model_dir': 'C:\\\\Users\\\\felip\\\\AppData\\\\Local\\\\Temp\\\\tmpvgu3hfrg', '_session_config': None, '_save_checkpoints_secs': 600, '_log_step_count_steps': 100}\n"
     ]
    }
   ],
   "source": [
    "model = tf.estimator.LinearClassifier(feature_columns=feat_cols)"
   ]
  },
  {
   "cell_type": "markdown",
   "metadata": {},
   "source": [
    "** Train your model on the data, for at least 5000 steps. **"
   ]
  },
  {
   "cell_type": "code",
   "execution_count": 13,
   "metadata": {},
   "outputs": [
    {
     "name": "stdout",
     "output_type": "stream",
     "text": [
      "INFO:tensorflow:Create CheckpointSaverHook.\n",
      "INFO:tensorflow:Saving checkpoints for 1 into C:\\Users\\felip\\AppData\\Local\\Temp\\tmpvgu3hfrg\\model.ckpt.\n",
      "INFO:tensorflow:step = 1, loss = 6.93147\n",
      "INFO:tensorflow:global_step/sec: 324.527\n",
      "INFO:tensorflow:step = 101, loss = 54.3849 (0.310 sec)\n",
      "INFO:tensorflow:global_step/sec: 544.931\n",
      "INFO:tensorflow:step = 201, loss = 5.38291 (0.184 sec)\n",
      "INFO:tensorflow:global_step/sec: 527.721\n",
      "INFO:tensorflow:step = 301, loss = 1.32381 (0.190 sec)\n",
      "INFO:tensorflow:global_step/sec: 401.07\n",
      "INFO:tensorflow:step = 401, loss = 1.90483 (0.248 sec)\n",
      "INFO:tensorflow:global_step/sec: 536.187\n",
      "INFO:tensorflow:step = 501, loss = 21.2636 (0.187 sec)\n",
      "INFO:tensorflow:global_step/sec: 530.516\n",
      "INFO:tensorflow:step = 601, loss = 1.71669 (0.188 sec)\n",
      "INFO:tensorflow:global_step/sec: 541.984\n",
      "INFO:tensorflow:step = 701, loss = 6.85493 (0.185 sec)\n",
      "INFO:tensorflow:global_step/sec: 550.918\n",
      "INFO:tensorflow:step = 801, loss = 1.95988 (0.182 sec)\n",
      "INFO:tensorflow:global_step/sec: 544.931\n",
      "INFO:tensorflow:step = 901, loss = 4.05573 (0.184 sec)\n",
      "INFO:tensorflow:global_step/sec: 550.919\n",
      "INFO:tensorflow:step = 1001, loss = 2.98294 (0.183 sec)\n",
      "INFO:tensorflow:global_step/sec: 539.069\n",
      "INFO:tensorflow:step = 1101, loss = 6.04673 (0.185 sec)\n",
      "INFO:tensorflow:global_step/sec: 516.844\n",
      "INFO:tensorflow:step = 1201, loss = 2.2217 (0.193 sec)\n",
      "INFO:tensorflow:global_step/sec: 536.189\n",
      "INFO:tensorflow:step = 1301, loss = 0.524404 (0.186 sec)\n",
      "INFO:tensorflow:global_step/sec: 533.335\n",
      "INFO:tensorflow:step = 1401, loss = 26.7111 (0.189 sec)\n",
      "INFO:tensorflow:global_step/sec: 539.072\n",
      "INFO:tensorflow:step = 1501, loss = 0.854186 (0.185 sec)\n",
      "INFO:tensorflow:global_step/sec: 547.908\n",
      "INFO:tensorflow:step = 1601, loss = 29.2574 (0.183 sec)\n",
      "INFO:tensorflow:global_step/sec: 491.505\n",
      "INFO:tensorflow:step = 1701, loss = 4.42279 (0.204 sec)\n",
      "INFO:tensorflow:global_step/sec: 533.338\n",
      "INFO:tensorflow:step = 1801, loss = 5.67417 (0.187 sec)\n",
      "INFO:tensorflow:global_step/sec: 541.984\n",
      "INFO:tensorflow:step = 1901, loss = 2.3479 (0.184 sec)\n",
      "INFO:tensorflow:global_step/sec: 539.07\n",
      "INFO:tensorflow:step = 2001, loss = 0.925802 (0.187 sec)\n",
      "INFO:tensorflow:global_step/sec: 541.986\n",
      "INFO:tensorflow:step = 2101, loss = 214.485 (0.184 sec)\n",
      "INFO:tensorflow:global_step/sec: 514.191\n",
      "INFO:tensorflow:step = 2201, loss = 2.38058 (0.195 sec)\n",
      "INFO:tensorflow:global_step/sec: 539.07\n",
      "INFO:tensorflow:step = 2301, loss = 45.1371 (0.186 sec)\n",
      "INFO:tensorflow:global_step/sec: 553.964\n",
      "INFO:tensorflow:step = 2401, loss = 24.8734 (0.180 sec)\n",
      "INFO:tensorflow:global_step/sec: 544.93\n",
      "INFO:tensorflow:step = 2501, loss = 0.474081 (0.184 sec)\n",
      "INFO:tensorflow:global_step/sec: 544.931\n",
      "INFO:tensorflow:step = 2601, loss = 4.88226 (0.184 sec)\n",
      "INFO:tensorflow:global_step/sec: 539.071\n",
      "INFO:tensorflow:step = 2701, loss = 6.30361 (0.186 sec)\n",
      "INFO:tensorflow:global_step/sec: 527.721\n",
      "INFO:tensorflow:step = 2801, loss = 2.28095 (0.189 sec)\n",
      "INFO:tensorflow:global_step/sec: 541.985\n",
      "INFO:tensorflow:step = 2901, loss = 1.02829 (0.186 sec)\n",
      "INFO:tensorflow:global_step/sec: 541.986\n",
      "INFO:tensorflow:step = 3001, loss = 11.4533 (0.185 sec)\n",
      "INFO:tensorflow:global_step/sec: 524.959\n",
      "INFO:tensorflow:step = 3101, loss = 9.96679 (0.190 sec)\n",
      "INFO:tensorflow:global_step/sec: 539.071\n",
      "INFO:tensorflow:step = 3201, loss = 8.50809 (0.185 sec)\n",
      "INFO:tensorflow:global_step/sec: 511.568\n",
      "INFO:tensorflow:step = 3301, loss = 0.499098 (0.196 sec)\n",
      "INFO:tensorflow:global_step/sec: 524.959\n",
      "INFO:tensorflow:step = 3401, loss = 27.1171 (0.190 sec)\n",
      "INFO:tensorflow:global_step/sec: 524.958\n",
      "INFO:tensorflow:step = 3501, loss = 4.43221 (0.190 sec)\n",
      "INFO:tensorflow:global_step/sec: 524.961\n",
      "INFO:tensorflow:step = 3601, loss = 1.76271 (0.189 sec)\n",
      "INFO:tensorflow:global_step/sec: 557.039\n",
      "INFO:tensorflow:step = 3701, loss = 4.64798 (0.181 sec)\n",
      "INFO:tensorflow:global_step/sec: 536.189\n",
      "INFO:tensorflow:step = 3801, loss = 2.73664 (0.186 sec)\n",
      "INFO:tensorflow:global_step/sec: 519.519\n",
      "INFO:tensorflow:step = 3901, loss = 1.62288 (0.193 sec)\n",
      "INFO:tensorflow:global_step/sec: 539.071\n",
      "INFO:tensorflow:step = 4001, loss = 26.5628 (0.186 sec)\n",
      "INFO:tensorflow:global_step/sec: 530.515\n",
      "INFO:tensorflow:step = 4101, loss = 0.742151 (0.188 sec)\n",
      "INFO:tensorflow:global_step/sec: 539.072\n",
      "INFO:tensorflow:step = 4201, loss = 6.26659 (0.185 sec)\n",
      "INFO:tensorflow:global_step/sec: 533.335\n",
      "INFO:tensorflow:step = 4301, loss = 1.71859 (0.187 sec)\n",
      "INFO:tensorflow:global_step/sec: 544.931\n",
      "INFO:tensorflow:step = 4401, loss = 4.81444 (0.184 sec)\n",
      "INFO:tensorflow:global_step/sec: 544.931\n",
      "INFO:tensorflow:step = 4501, loss = 1.62648 (0.185 sec)\n",
      "INFO:tensorflow:global_step/sec: 536.189\n",
      "INFO:tensorflow:step = 4601, loss = 5.79053 (0.186 sec)\n",
      "INFO:tensorflow:global_step/sec: 536.186\n",
      "INFO:tensorflow:step = 4701, loss = 0.282343 (0.187 sec)\n",
      "INFO:tensorflow:global_step/sec: 539.072\n",
      "INFO:tensorflow:step = 4801, loss = 0.12243 (0.187 sec)\n",
      "INFO:tensorflow:global_step/sec: 514.191\n",
      "INFO:tensorflow:step = 4901, loss = 14.2494 (0.193 sec)\n",
      "INFO:tensorflow:Saving checkpoints for 5000 into C:\\Users\\felip\\AppData\\Local\\Temp\\tmpvgu3hfrg\\model.ckpt.\n",
      "INFO:tensorflow:Loss for final step: 1.59087.\n"
     ]
    },
    {
     "data": {
      "text/plain": [
       "<tensorflow.python.estimator.canned.linear.LinearClassifier at 0x19b4d625cf8>"
      ]
     },
     "execution_count": 13,
     "metadata": {},
     "output_type": "execute_result"
    }
   ],
   "source": [
    "model.train(input_fn=input_function, steps=5000)"
   ]
  },
  {
   "cell_type": "markdown",
   "metadata": {},
   "source": [
    "### Evaluation\n",
    "\n",
    "** Create a prediction input function. Remember to only supprt X_test data and keep shuffle=False. **"
   ]
  },
  {
   "cell_type": "code",
   "execution_count": 14,
   "metadata": {
    "collapsed": true
   },
   "outputs": [],
   "source": [
    "prediction_input_function = tf.estimator.inputs.pandas_input_fn(x=X_test, batch_size=10, num_epochs=1, shuffle=False)"
   ]
  },
  {
   "cell_type": "markdown",
   "metadata": {},
   "source": [
    "** Use model.predict() and pass in your input function. This will produce a generator of predictions, which you can then transform into a list, with list() **"
   ]
  },
  {
   "cell_type": "code",
   "execution_count": 15,
   "metadata": {},
   "outputs": [
    {
     "name": "stdout",
     "output_type": "stream",
     "text": [
      "INFO:tensorflow:Restoring parameters from C:\\Users\\felip\\AppData\\Local\\Temp\\tmpvgu3hfrg\\model.ckpt-5000\n"
     ]
    }
   ],
   "source": [
    "predictions = model.predict(input_fn=prediction_input_function)\n",
    "predict = list(predictions)"
   ]
  },
  {
   "cell_type": "markdown",
   "metadata": {},
   "source": [
    "** Each item in your list will look like this: **"
   ]
  },
  {
   "cell_type": "code",
   "execution_count": 16,
   "metadata": {},
   "outputs": [
    {
     "data": {
      "text/plain": [
       "{'class_ids': array([1], dtype=int64),\n",
       " 'classes': array([b'1'], dtype=object),\n",
       " 'logistic': array([ 0.89392698], dtype=float32),\n",
       " 'logits': array([ 2.13149667], dtype=float32),\n",
       " 'probabilities': array([ 0.10607298,  0.89392698], dtype=float32)}"
      ]
     },
     "execution_count": 16,
     "metadata": {},
     "output_type": "execute_result"
    }
   ],
   "source": [
    "predict[0]"
   ]
  },
  {
   "cell_type": "markdown",
   "metadata": {},
   "source": [
    "** Create a list of only the class_ids key values from the prediction list of dictionaries, these are the predictions you will use to compare against the real y_test values. **"
   ]
  },
  {
   "cell_type": "code",
   "execution_count": 18,
   "metadata": {},
   "outputs": [],
   "source": [
    "final_predictions = []\n",
    "for pred in predict:\n",
    "    final_predictions.append(pred['class_ids'][0])"
   ]
  },
  {
   "cell_type": "code",
   "execution_count": 20,
   "metadata": {},
   "outputs": [
    {
     "data": {
      "text/plain": [
       "[1, 1, 1, 1, 0, 1, 1, 1, 1, 1]"
      ]
     },
     "execution_count": 20,
     "metadata": {},
     "output_type": "execute_result"
    }
   ],
   "source": [
    "final_predictions[0:10]"
   ]
  },
  {
   "cell_type": "markdown",
   "metadata": {},
   "source": [
    "** Import classification_report from sklearn.metrics and then see if you can figure out how to use it to easily get a full report of your model's performance on the test data. **"
   ]
  },
  {
   "cell_type": "code",
   "execution_count": 21,
   "metadata": {},
   "outputs": [
    {
     "name": "stdout",
     "output_type": "stream",
     "text": [
      "             precision    recall  f1-score   support\n",
      "\n",
      "          0       0.65      0.57      0.61      2333\n",
      "          1       0.87      0.90      0.89      7436\n",
      "\n",
      "avg / total       0.82      0.82      0.82      9769\n",
      "\n"
     ]
    }
   ],
   "source": [
    "print(classification_report(y_test, final_predictions))"
   ]
  },
  {
   "cell_type": "markdown",
   "metadata": {
    "collapsed": true
   },
   "source": [
    "# Great Job!"
   ]
  }
 ],
 "metadata": {
  "kernelspec": {
   "display_name": "Python 3",
   "language": "python",
   "name": "python3"
  },
  "language_info": {
   "codemirror_mode": {
    "name": "ipython",
    "version": 3
   },
   "file_extension": ".py",
   "mimetype": "text/x-python",
   "name": "python",
   "nbconvert_exporter": "python",
   "pygments_lexer": "ipython3",
   "version": "3.5.4"
  }
 },
 "nbformat": 4,
 "nbformat_minor": 2
}
